{
 "cells": [
  {
   "cell_type": "markdown",
   "id": "15efd009-06a3-4e6a-bc74-26603cd8b289",
   "metadata": {},
   "source": [
    "### Automatic File Sorter"
   ]
  },
  {
   "cell_type": "code",
   "execution_count": 38,
   "id": "eb59efb7-018a-45ce-ae50-0496d87ed8be",
   "metadata": {},
   "outputs": [],
   "source": [
    "import os, shutil"
   ]
  },
  {
   "cell_type": "code",
   "execution_count": 54,
   "id": "d85ed328-dc8a-4d4e-aead-2f6be3b7122e",
   "metadata": {},
   "outputs": [],
   "source": [
    "path = r\"C:\\Data Scientist Career\\Python\\Python Tutorial\\Automatic_Sorter\\\\\"\n",
    "\n",
    "folder_names = [\"CSV Files\", \"Text Files\", \"Image Files\",\"TSV Files\"]\n",
    "\n",
    "for folder in folder_names:\n",
    "    if not os.path.exists(path + folder):\n",
    "        os.makedirs(path + folder)\n",
    "\n",
    "file_names = os.listdir(path)\n",
    "\n",
    "for file in file_names:\n",
    "    if \".csv\" in file and not os.path.exists(path + \"CSV Files\\\\\" + file):\n",
    "        shutil.move(path + file, path + \"CSV Files\\\\\" + file)\n",
    "    elif \".txt\" in file and not os.path.exists(path + \"Text Files\\\\\" + file):\n",
    "        shutil.move(path + file, path + \"Text Files\\\\\" + file)\n",
    "    elif \".png\" in file and not os.path.exists(path + \"Image Files\\\\\" + file):\n",
    "        shutil.move(path + file, path + \"Image Files\\\\\" + file)\n",
    "    elif \".tsv\" in file and not os.path.exists(path + \"TSV Files\\\\\" + file):\n",
    "        shutil.move(path + file, path + \"TSV Files\\\\\" + file)"
   ]
  }
 ],
 "metadata": {
  "kernelspec": {
   "display_name": "Python 3 (ipykernel)",
   "language": "python",
   "name": "python3"
  },
  "language_info": {
   "codemirror_mode": {
    "name": "ipython",
    "version": 3
   },
   "file_extension": ".py",
   "mimetype": "text/x-python",
   "name": "python",
   "nbconvert_exporter": "python",
   "pygments_lexer": "ipython3",
   "version": "3.12.4"
  }
 },
 "nbformat": 4,
 "nbformat_minor": 5
}
