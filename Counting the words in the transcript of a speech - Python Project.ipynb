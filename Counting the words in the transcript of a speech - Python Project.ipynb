{
 "cells": [
  {
   "cell_type": "markdown",
   "id": "3ce6cfac-e55c-44d2-ac10-2f5a9e53e579",
   "metadata": {},
   "source": [
    "### Counting the words in the transcript of a speech project"
   ]
  },
  {
   "cell_type": "code",
   "execution_count": 117,
   "id": "08ab7772-ca3a-43fd-846b-07513b6652d7",
   "metadata": {},
   "outputs": [],
   "source": [
    "# Transcript of speech by Dr. Martin Luther King Jr.\n",
    "# Web Scraper, Regular Expression and Pandas\n",
    "\n",
    "from bs4 import BeautifulSoup\n",
    "import requests\n",
    "import pandas as pd\n",
    "import re\n",
    "\n",
    "# Pulling the text from a website\n",
    "\n",
    "url = \"http://www.analytictech.com/mb021/mlk.htm\"\n",
    "page = requests.get(url)\n",
    "soup = BeautifulSoup(page.text,\"html\")\n",
    "\n",
    "# Data Cleaning\n",
    "\n",
    "mlkj_speech = soup.find_all(\"p\")\n",
    "speech_combined = [p.text for p in mlkj_speech]\n",
    "string_speech = \" \".join(speech_combined)\n",
    "string_speech_cleaned = string_speech.replace(\"\\r\\n\",\" \")\n",
    "speech_no_punt = re.sub(r\"[^\\w\\s]\",\"\",string_speech_cleaned)\n",
    "speech_lower = speech_no_punt.lower()\n",
    "\n",
    "# Separating each word from a text\n",
    "\n",
    "speech_broken_out = re.split(r\"\\s+\",speech_lower)\n",
    "\n",
    "# Creating a Data Frame and Counting the words in a text\n",
    "\n",
    "df = pd.DataFrame(speech_broken_out).value_counts()\n",
    "\n",
    "# Exporting a Data Frame into CSV File\n",
    "\n",
    "df.to_csv(r\"C:\\Data Scientist Career\\Python\\Python Tutorial\\Documents Location\\MLKJ_Speech_Counts.csv\",header = [\"Counts\"],index_label = \"Word\")"
   ]
  }
 ],
 "metadata": {
  "kernelspec": {
   "display_name": "Python 3 (ipykernel)",
   "language": "python",
   "name": "python3"
  },
  "language_info": {
   "codemirror_mode": {
    "name": "ipython",
    "version": 3
   },
   "file_extension": ".py",
   "mimetype": "text/x-python",
   "name": "python",
   "nbconvert_exporter": "python",
   "pygments_lexer": "ipython3",
   "version": "3.12.4"
  }
 },
 "nbformat": 4,
 "nbformat_minor": 5
}
