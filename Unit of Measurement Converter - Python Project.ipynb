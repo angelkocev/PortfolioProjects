{
 "cells": [
  {
   "cell_type": "markdown",
   "id": "de61e716-82e6-4a94-9914-126f082d3bc0",
   "metadata": {},
   "source": [
    "## Unit of Measurement Converter"
   ]
  },
  {
   "cell_type": "code",
   "execution_count": 128,
   "id": "4a27fe0d-f3c4-4ae3-9a01-c30fa17b78be",
   "metadata": {},
   "outputs": [
    {
     "name": "stdin",
     "output_type": "stream",
     "text": [
      "Enter Starting Unit of Measurement(inches, feet, yards, miles):  in\n",
      "Enter Unit of Measurement to Convert to(inches, feet, yards, miles):  mi\n",
      "Enter Starting Measurement in Inches:  1\n"
     ]
    },
    {
     "name": "stdout",
     "output_type": "stream",
     "text": [
      "Result: 1 Inches = 0.0 Miles\n"
     ]
    }
   ],
   "source": [
    "convert_from = input(\"Enter Starting Unit of Measurement(inches, feet, yards, miles): \")\n",
    "convert_to = input(\"Enter Unit of Measurement to Convert to(inches, feet, yards, miles): \")\n",
    "\n",
    "if convert_from.lower() in [\"inches\",\"in\",\"inch\"]:\n",
    "    number_of_inches = int(input(\"Enter Starting Measurement in Inches: \"))\n",
    "    if convert_to.lower() in [\"feet\",\"foot\",\"ft\"]:\n",
    "        print(\"Result:\", number_of_inches,\"Inches\", \"=\",round(number_of_inches / 12,2),\"Feet\")\n",
    "    elif convert_to.lower() in [\"yards\",\"yard\",\"yds\",\"yd\"]:\n",
    "        print(\"Result:\", number_of_inches,\"Inches\", \"=\",round(number_of_inches / 36,2),\"Yards\")\n",
    "    elif convert_to.lower() in [\"mile\",\"mi\"]:\n",
    "        print(\"Result:\", number_of_inches,\"Inches\", \"=\",round(number_of_inches / 63360,2),\"Miles\")\n",
    "    else:\n",
    "        print(\"Please Enter either Inches, Feet, Yards, or Mile.\")\n",
    "\n",
    "elif convert_from.lower() in [\"feet\",\"foot\",\"ft\"]:\n",
    "    number_of_feet = int(input(\"Enter Starting Measurement in Feet: \"))\n",
    "    if convert_to.lower() in [\"inches\",\"in\",\"inch\"]:\n",
    "        print(\"Result:\", number_of_feet,\"Feet\", \"=\",round(number_of_feet * 12),\"Inches\")\n",
    "    elif convert_to.lower() in [\"yards\",\"yard\",\"yds\",\"yd\"]:\n",
    "        print(\"Result:\", number_of_feet,\"Feet\", \"=\",round(number_of_feet / 3,2),\"Yards\")\n",
    "    elif convert_to.lower() in [\"mile\",\"mi\"]:\n",
    "        print(\"Result:\", number_of_feet,\"Feet\", \"=\",round(number_of_feet / 5280,2),\"Miles\")\n",
    "    else:\n",
    "        print(\"Please Enter either Inches, Feet, Yards, or Mile.\")\n",
    "\n",
    "elif convert_from.lower() in [\"yards\",\"yard\",\"yds\",\"yd\"]:\n",
    "    number_of_yards = int(input(\"Enter Starting Measurement in Yards: \"))\n",
    "    if convert_to.lower() in [\"inches\",\"in\",\"inch\"]:\n",
    "        print(\"Result:\", number_of_yards,\"Yards\", \"=\",round(number_of_yards * 36),\"Inches\")\n",
    "    elif convert_to.lower() in [\"feet\",\"foot\",\"ft\"]:\n",
    "        print(\"Result:\", number_of_yards,\"Yards\", \"=\",round(number_of_yards * 3),\"Feet\")\n",
    "    elif convert_to.lower() in [\"mile\",\"mi\"]:\n",
    "        print(\"Result:\", number_of_yards,\"Yards\", \"=\",round(number_of_yards / 1760,2),\"Miles\")\n",
    "    else:\n",
    "        print(\"Please Enter either Inches, Feet, Yards, or Mile.\")\n",
    "\n",
    "elif convert_from.lower() in [\"mile\",\"mi\"]:\n",
    "    number_of_miles = int(input(\"Enter Starting Measurement in Miles: \"))\n",
    "    if convert_to.lower() in [\"inches\",\"in\",\"inch\"]:\n",
    "        print(\"Result:\", number_of_miles,\"Miles\", \"=\",round(number_of_miles * 63360),\"Inches\")\n",
    "    elif convert_to.lower() in [\"feet\",\"foot\",\"ft\"]:\n",
    "        print(\"Result:\", number_of_miles,\"Miles\", \"=\",round(number_of_miles * 5280),\"Feet\")\n",
    "    elif convert_to.lower() in [\"yards\",\"yard\",\"yds\",\"yd\"]:\n",
    "        print(\"Result:\", number_of_miles,\"Miles\", \"=\",round(number_of_miles * 1760),\"Yards\")\n",
    "    else:\n",
    "        print(\"Please Enter either Inches, Feet, Yards, or Mile.\")\n",
    "\n",
    "else:\n",
    "    print(\"Please Enter either Inches, Feet, Yards, or Mile.\")"
   ]
  }
 ],
 "metadata": {
  "kernelspec": {
   "display_name": "Python 3 (ipykernel)",
   "language": "python",
   "name": "python3"
  },
  "language_info": {
   "codemirror_mode": {
    "name": "ipython",
    "version": 3
   },
   "file_extension": ".py",
   "mimetype": "text/x-python",
   "name": "python",
   "nbconvert_exporter": "python",
   "pygments_lexer": "ipython3",
   "version": "3.12.4"
  }
 },
 "nbformat": 4,
 "nbformat_minor": 5
}
