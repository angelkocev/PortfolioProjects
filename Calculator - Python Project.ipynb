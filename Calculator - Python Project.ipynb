{
 "cells": [
  {
   "cell_type": "markdown",
   "id": "690a0023-eebe-4153-a1f6-04c3b66e2df3",
   "metadata": {},
   "source": [
    "## Calculator"
   ]
  },
  {
   "cell_type": "code",
   "execution_count": 86,
   "id": "a2ea5dd1-23c6-4b44-8afa-aa92316bde43",
   "metadata": {},
   "outputs": [],
   "source": [
    "# Creating a functions\n",
    "\n",
    "def add(x,y):\n",
    "    return x + y\n",
    "\n",
    "def subtract(x,y):\n",
    "    return x - y\n",
    "\n",
    "def multiply(x,y):\n",
    "    return x * y\n",
    "\n",
    "def divide(x,y):\n",
    "    return x / y"
   ]
  },
  {
   "cell_type": "code",
   "execution_count": 88,
   "id": "ef5f6aa6-d1c0-46d7-aa10-6da4a9c65e70",
   "metadata": {},
   "outputs": [
    {
     "name": "stdin",
     "output_type": "stream",
     "text": [
      "Enter Choice (A,S,M,D):  S\n",
      "Enter the first number:  5\n",
      "Enter the second number:  10\n"
     ]
    }
   ],
   "source": [
    "# Creating an inputs\n",
    "\n",
    "choice = input(\"Enter Choice (A,S,M,D): \")\n",
    "num1 = float(input(\"Enter the first number: \"))\n",
    "num2 = float(input(\"Enter the second number: \"))"
   ]
  },
  {
   "cell_type": "code",
   "execution_count": 108,
   "id": "84838f2a-544a-40a0-9df9-29f820ba9610",
   "metadata": {},
   "outputs": [
    {
     "name": "stdout",
     "output_type": "stream",
     "text": [
      "Enter 'A' for Addition(+).\n",
      "Enter 'S' for Subtraction(-).\n",
      "Enter 'M' for Multiplication(*).\n",
      "Enter 'D' for Division(/).\n"
     ]
    },
    {
     "name": "stdin",
     "output_type": "stream",
     "text": [
      "Enter Choice (A, S, M, D) a\n",
      "Enter the first number:  60\n",
      "Enter the second number:  20\n"
     ]
    },
    {
     "name": "stdout",
     "output_type": "stream",
     "text": [
      "Result: 60.0 + 20.0 = 80.0\n"
     ]
    },
    {
     "name": "stdin",
     "output_type": "stream",
     "text": [
      "Want to do another calculation? (yes/no):  yes\n",
      "Enter Choice (A, S, M, D) M\n",
      "Enter the first number:  5\n",
      "Enter the second number:  6\n"
     ]
    },
    {
     "name": "stdout",
     "output_type": "stream",
     "text": [
      "Result: 5.0 * 6.0 = 30.0\n"
     ]
    },
    {
     "name": "stdin",
     "output_type": "stream",
     "text": [
      "Want to do another calculation? (yes/no):  yes\n",
      "Enter Choice (A, S, M, D) 5\n"
     ]
    },
    {
     "name": "stdout",
     "output_type": "stream",
     "text": [
      "Please input a correct arithmetic choice.\n"
     ]
    },
    {
     "name": "stdin",
     "output_type": "stream",
     "text": [
      "Want to do another calculation? (yes/no):  no\n"
     ]
    }
   ],
   "source": [
    "print(\"Enter 'A' for Addition(+).\")\n",
    "print(\"Enter 'S' for Subtraction(-).\")\n",
    "print(\"Enter 'M' for Multiplication(*).\")\n",
    "print(\"Enter 'D' for Division(/).\")\n",
    "\n",
    "while True:\n",
    "    choice = input(\"Enter Choice (A, S, M, D)\")\n",
    "    if choice.upper() in (\"A\",\"ADD\",\"ADDITION\",\"S\",\"SUBTRACT\",\"SUBTRACTION\",\"M\",\"MULTIPLY\",\"MULTIPLICATION\",\"D\",\"DIVIDE\",\"DIVISION\"):\n",
    "        num1 = float(input(\"Enter the first number: \"))\n",
    "        num2 = float(input(\"Enter the second number: \"))\n",
    "        if choice.upper() in (\"A\",\"ADD\",\"ADDITION\"):\n",
    "            print(\"Result:\", num1, \"+\", num2, \"=\", add(num1,num2))\n",
    "        elif choice.upper() in (\"S\",\"SUBTRACT\",\"SUBTRACTION\"):\n",
    "            print(\"Result:\", num1, \"-\", num2, \"=\", subtract(num1,num2))\n",
    "        elif choice.upper() in (\"M\",\"MULTIPLY\",\"MULTIPLICATION\"):\n",
    "            print(\"Result:\", num1, \"*\", num2, \"=\", multiply(num1,num2))\n",
    "        elif choice.upper() in (\"D\",\"DIVIDE\",\"DIVISION\"):\n",
    "            print(\"Result:\", num1, \"/\", num2, \"=\", divide(num1,num2))\n",
    "    else:\n",
    "        print(\"Please input a correct arithmetic choice.\")\n",
    "    \n",
    "    next_calculation = input(\"Want to do another calculation? (yes/no): \")\n",
    "    if next_calculation.lower() in (\"no\",\"n\",\"nope\"):\n",
    "        break"
   ]
  }
 ],
 "metadata": {
  "kernelspec": {
   "display_name": "Python 3 (ipykernel)",
   "language": "python",
   "name": "python3"
  },
  "language_info": {
   "codemirror_mode": {
    "name": "ipython",
    "version": 3
   },
   "file_extension": ".py",
   "mimetype": "text/x-python",
   "name": "python",
   "nbconvert_exporter": "python",
   "pygments_lexer": "ipython3",
   "version": "3.12.4"
  }
 },
 "nbformat": 4,
 "nbformat_minor": 5
}
