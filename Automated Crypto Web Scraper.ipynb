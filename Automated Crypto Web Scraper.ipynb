{
 "cells": [
  {
   "cell_type": "markdown",
   "id": "4ed494ee-543b-43c0-9a49-1d29353b1cc8",
   "metadata": {},
   "source": [
    "### Automated Crypto Web Scraper"
   ]
  },
  {
   "cell_type": "code",
   "execution_count": null,
   "id": "eca07619-d463-4024-a662-93c9dc28a51f",
   "metadata": {},
   "outputs": [],
   "source": [
    "# Importing packages\n",
    "\n",
    "from bs4 import BeautifulSoup\n",
    "import requests\n",
    "from datetime import datetime\n",
    "import pandas as pd\n",
    "import os\n",
    "import time"
   ]
  },
  {
   "cell_type": "code",
   "execution_count": null,
   "id": "6355486d-a958-407c-be6b-cc18420882f3",
   "metadata": {},
   "outputs": [],
   "source": [
    "def automated_crypto_pull():\n",
    "\n",
    "    url = \"https://coinmarketcap.com/currencies/bitcoin/\"\n",
    "    page = requests.get(url)\n",
    "    soup = BeautifulSoup(page.text,\"html\")\n",
    "    \n",
    "    # Scraping the crypto name\n",
    "    span_element = soup.find(\"span\",class_ = \"sc-65e7f566-0 lsTl\")\n",
    "    crypto_name = span_element.contents[0].strip()\n",
    "    \n",
    "    # Scraping the crypto price\n",
    "    crypto_price = soup.find(\"span\",\"sc-65e7f566-0 clvjgF base-text\").text\n",
    "    final_price = crypto_price.replace(\"$\",\"\")\n",
    "    \n",
    "    # Getting the current datetime and formatting it\n",
    "    date_time = datetime.now()\n",
    "    formatted_date_time = date_time.strftime('%d-%m-%Y %H:%M:%S')\n",
    "    \n",
    "    # Creating a dictionary with the scraped data\n",
    "    dict = {\"Crypto Name\":crypto_name,\n",
    "           \"Price\":final_price,\n",
    "           \"Timestamp\":formatted_date_time}\n",
    "    \n",
    "    # Exporting the DataFrame to a CSV file\n",
    "    df = pd.DataFrame([dict])\n",
    "    \n",
    "    # Exporting a DataFrame to a CSV File\n",
    "    if os.path.exists(r\"C:\\Data Scientist Career\\Python\\Python Tutorial\\Crypto Web Puller\\Crypto_Automated_Pull.csv\"):\n",
    "        df.to_csv(r\"C:\\Data Scientist Career\\Python\\Python Tutorial\\Crypto Web Puller\\Crypto_Automated_Pull.csv\",mode = \"a\", header = False, index = False)\n",
    "    else:\n",
    "        df.to_csv(r\"C:\\Data Scientist Career\\Python\\Python Tutorial\\Crypto Web Puller\\Crypto_Automated_Pull.csv\",index = False)\n",
    "    print(df)\n",
    "\n",
    "# Run the automated web scraper every hour\n",
    "while True:\n",
    "    automated_crypto_pull()\n",
    "    time.sleep(3600) "
   ]
  }
 ],
 "metadata": {
  "kernelspec": {
   "display_name": "Python 3 (ipykernel)",
   "language": "python",
   "name": "python3"
  },
  "language_info": {
   "codemirror_mode": {
    "name": "ipython",
    "version": 3
   },
   "file_extension": ".py",
   "mimetype": "text/x-python",
   "name": "python",
   "nbconvert_exporter": "python",
   "pygments_lexer": "ipython3",
   "version": "3.12.4"
  }
 },
 "nbformat": 4,
 "nbformat_minor": 5
}
